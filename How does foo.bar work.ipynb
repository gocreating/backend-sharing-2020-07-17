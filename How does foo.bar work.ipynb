{
 "cells": [
  {
   "cell_type": "markdown",
   "metadata": {},
   "source": [
    "# Custom ORM"
   ]
  },
  {
   "cell_type": "code",
   "execution_count": 14,
   "metadata": {},
   "outputs": [],
   "source": [
    "class Base():\n",
    "    pass\n",
    "\n",
    "class Column():\n",
    "    def __init__(self, dtype):\n",
    "        pass\n",
    "\n",
    "class relationship():\n",
    "    def __init__(self, children_model_class):\n",
    "        pass"
   ]
  },
  {
   "cell_type": "markdown",
   "metadata": {},
   "source": [
    "Make this work:"
   ]
  },
  {
   "cell_type": "code",
   "execution_count": null,
   "metadata": {},
   "outputs": [],
   "source": [
    "class Email(Base):\n",
    "    value = Column(str)\n",
    "    \n",
    "    def __init__(self, *args, **kwargs):\n",
    "        pass\n",
    "    \n",
    "class User(Base):\n",
    "    name = Column(str)\n",
    "    emails = relationship('Email')\n",
    "    \n",
    "    def __init__(self, *args, **kwargs):\n",
    "        pass\n",
    "    \n",
    "    def __repr__(self):\n",
    "        return '<user CP>'\n",
    "    \n",
    "user = User(name='CP')\n",
    "user.emails = [\n",
    "    Email(value='cp1@od.hk'),\n",
    "    Email(value='cp2@od.hk')\n",
    "]\n",
    "\n",
    "assert str(user) == '<user CP>'"
   ]
  },
  {
   "cell_type": "markdown",
   "metadata": {},
   "source": [
    "# Class Instantiation"
   ]
  },
  {
   "cell_type": "code",
   "execution_count": 1,
   "metadata": {},
   "outputs": [],
   "source": [
    "class Foo(object):\n",
    "    def __init__(self, x, y=0):\n",
    "        self.x = x\n",
    "        self.y = y"
   ]
  },
  {
   "cell_type": "code",
   "execution_count": 4,
   "metadata": {
    "scrolled": true
   },
   "outputs": [
    {
     "name": "stdout",
     "output_type": "stream",
     "text": [
      "<__main__.Foo object at 0x7fb22cef15d0>\n",
      "1\n",
      "2\n"
     ]
    }
   ],
   "source": [
    "# foo = Foo(1, y=2)\n",
    "foo = Foo.__call__(1, y=2)\n",
    "print(foo)\n",
    "print(foo.x)\n",
    "print(foo.y)"
   ]
  },
  {
   "cell_type": "code",
   "execution_count": 28,
   "metadata": {
    "scrolled": true
   },
   "outputs": [
    {
     "name": "stdout",
     "output_type": "stream",
     "text": [
      "<__main__.Foo object at 0x1096fe358>\n",
      "1\n",
      "2\n"
     ]
    }
   ],
   "source": [
    "# simulating type's __call__()\n",
    "\n",
    "class FooMetaclass(type):    \n",
    "    def __call__(self, *args, **kwargs):\n",
    "        obj = self.__new__(self, *args, **kwargs)\n",
    "        if obj is not None:\n",
    "            obj.__init__(*args, **kwargs)\n",
    "        return obj\n",
    "\n",
    "class Foo(metaclass=FooMetaclass):\n",
    "    def __init__(self, x, y=0):\n",
    "        self.x = x\n",
    "        self.y = y\n",
    "\n",
    "foo = Foo(1, y=2)\n",
    "\n",
    "print(foo)\n",
    "print(foo.x)\n",
    "print(foo.y)"
   ]
  },
  {
   "cell_type": "markdown",
   "metadata": {},
   "source": [
    "1. `Foo(*args, **kwargs)` is equivalent to `Foo.__call__(*args, **kwargs)`\n",
    "2. Since `Foo` is an instance of `type`, `Foo.__call__(*args, **kwargs)` calls `type.__call__(Foo, *args, **kwargs)`\n",
    "3. `type.__call__(Foo, *args, **kwargs)` calls `type.__new__(Foo, *args, **kwargs)` which returns `obj`\n",
    "4. `obj` is then initialized by calling `obj.__init__(*args, **kwargs)`\n",
    "5. `obj` is returned"
   ]
  },
  {
   "cell_type": "markdown",
   "metadata": {},
   "source": [
    "# Attribute Access"
   ]
  },
  {
   "cell_type": "code",
   "execution_count": 7,
   "metadata": {},
   "outputs": [
    {
     "name": "stdout",
     "output_type": "stream",
     "text": [
      "baz\n"
     ]
    }
   ],
   "source": [
    "class Foo():\n",
    "    def __init__(self):\n",
    "        self.bar = 'baz'\n",
    "        \n",
    "foo = Foo()\n",
    "\n",
    "# foo.bar\n",
    "print(foo.__getattribute__('bar'))"
   ]
  },
  {
   "cell_type": "code",
   "execution_count": 17,
   "metadata": {},
   "outputs": [
    {
     "name": "stdout",
     "output_type": "stream",
     "text": [
      "baz\n"
     ]
    }
   ],
   "source": [
    "# simulating __getattribute__()\n",
    "\n",
    "class Foo():\n",
    "    def __init__(self):\n",
    "        self.bar = 'baz'\n",
    "        \n",
    "    def __getattr__(self, item):\n",
    "        return 'qux'\n",
    "        \n",
    "    def __my_getattribute__(self, item):\n",
    "        if item in self.__dict__:\n",
    "            return self.__dict__[item]\n",
    "        return self.__getattr__(item)\n",
    "\n",
    "foo = Foo()\n",
    "\n",
    "# foo.bar\n",
    "print(foo.__my_getattribute__('bar'))"
   ]
  },
  {
   "cell_type": "markdown",
   "metadata": {},
   "source": [
    "# Metaclass"
   ]
  },
  {
   "cell_type": "code",
   "execution_count": 26,
   "metadata": {},
   "outputs": [
    {
     "name": "stdout",
     "output_type": "stream",
     "text": [
      "baz\n"
     ]
    }
   ],
   "source": [
    "class Foo(object):\n",
    "    bar = 'baz'\n",
    "print(Foo.bar)"
   ]
  },
  {
   "cell_type": "markdown",
   "metadata": {},
   "source": [
    "is equivalent to"
   ]
  },
  {
   "cell_type": "code",
   "execution_count": 25,
   "metadata": {},
   "outputs": [
    {
     "name": "stdout",
     "output_type": "stream",
     "text": [
      "baz\n"
     ]
    }
   ],
   "source": [
    "# type(name, bases, attrs)\n",
    "Foo = type('Foo', (object,), { 'bar': 'baz' })\n",
    "print(Foo.bar)"
   ]
  },
  {
   "cell_type": "markdown",
   "metadata": {},
   "source": [
    "## Create a class automatically transform props to uppercase"
   ]
  },
  {
   "cell_type": "code",
   "execution_count": null,
   "metadata": {},
   "outputs": [],
   "source": []
  },
  {
   "cell_type": "markdown",
   "metadata": {},
   "source": [
    "# Column Descriptor"
   ]
  },
  {
   "cell_type": "code",
   "execution_count": 28,
   "metadata": {},
   "outputs": [
    {
     "name": "stdout",
     "output_type": "stream",
     "text": [
      "<user CP2>\n"
     ]
    }
   ],
   "source": [
    "class Column():\n",
    "    def __init__(self, dtype):\n",
    "        self.dtype = dtype\n",
    "        self.data = None\n",
    "    \n",
    "    def __get__(self, obj, type):\n",
    "        return self.dtype(self.data)\n",
    "        \n",
    "    def __set__(self, obj, value):\n",
    "        self.data = value\n",
    "\n",
    "class User():\n",
    "    name = Column(str)\n",
    "    \n",
    "    def __repr__(self):\n",
    "        return f'<user {self.name}>'\n",
    "\n",
    "user = User()\n",
    "user.name = 'CP2'\n",
    "print(user)"
   ]
  },
  {
   "cell_type": "markdown",
   "metadata": {},
   "source": [
    "# Column Descriptor + Base Metaclass"
   ]
  },
  {
   "cell_type": "code",
   "execution_count": 43,
   "metadata": {},
   "outputs": [
    {
     "name": "stdout",
     "output_type": "stream",
     "text": [
      "Base.__init__\n",
      "<user CP>\n"
     ]
    }
   ],
   "source": [
    "class BaseMeta(type):\n",
    "#     def __new__(mcls, name, base, attribs):\n",
    "#         print(attribs.get('__annotations__',{}))\n",
    "#         return super().__new__(mcls, name, base, attribs)\n",
    "    def __call__(self, *args, **kwargs):\n",
    "        print('BaseMeta.__call__')\n",
    "        instance = self.__new__(self, *args, **kwargs)\n",
    "        self.__init__(instance, *args, **kwargs)\n",
    "        for column_name, column_value in kwargs.items():\n",
    "            setattr(self, column_name, column_value)\n",
    "        return instance\n",
    "\n",
    "\n",
    "# class Base(metaclass=BaseMeta):\n",
    "class Base():\n",
    "    def __init__(self, **kwargs):\n",
    "        print('Base.__init__')\n",
    "        for column_name, column_value in kwargs.items():\n",
    "            setattr(self, column_name, column_value)\n",
    "\n",
    "\n",
    "class Column():\n",
    "    def __init__(self, dtype):\n",
    "        self.dtype = dtype\n",
    "        self.data = None\n",
    "    \n",
    "    def __get__(self, obj, type_):\n",
    "        return self.dtype(self.data)\n",
    "        \n",
    "    def __set__(self, obj, value):\n",
    "        self.data = value\n",
    "\n",
    "class User(Base):\n",
    "    name = Column(str)\n",
    "    \n",
    "    def __repr__(self):\n",
    "        return f'<user {self.name}>'\n",
    "\n",
    "user = User(name='CP')\n",
    "# user.name = 'CP2'\n",
    "print(user)"
   ]
  },
  {
   "cell_type": "code",
   "execution_count": null,
   "metadata": {},
   "outputs": [],
   "source": []
  }
 ],
 "metadata": {
  "kernelspec": {
   "display_name": "Python 3",
   "language": "python",
   "name": "python3"
  },
  "language_info": {
   "codemirror_mode": {
    "name": "ipython",
    "version": 3
   },
   "file_extension": ".py",
   "mimetype": "text/x-python",
   "name": "python",
   "nbconvert_exporter": "python",
   "pygments_lexer": "ipython3",
   "version": "3.7.4"
  }
 },
 "nbformat": 4,
 "nbformat_minor": 2
}
