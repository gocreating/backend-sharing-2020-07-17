{
 "cells": [
  {
   "cell_type": "markdown",
   "metadata": {},
   "source": [
    "# Review"
   ]
  },
  {
   "cell_type": "markdown",
   "metadata": {},
   "source": [
    "## MRO"
   ]
  },
  {
   "cell_type": "code",
   "execution_count": 2,
   "metadata": {},
   "outputs": [
    {
     "name": "stdout",
     "output_type": "stream",
     "text": [
      "(<class '__main__.D'>, <class '__main__.B'>, <class '__main__.C'>, <class '__main__.A'>, <class 'object'>)\n",
      "c.show\n"
     ]
    }
   ],
   "source": [
    "class A():\n",
    "    def show(self):\n",
    "        print('a.show')\n",
    "\n",
    "class B(A):\n",
    "    pass\n",
    "\n",
    "class C(A):\n",
    "    def show(self):\n",
    "        print('c.show')\n",
    "\n",
    "class D(B, C):\n",
    "    pass\n",
    "\n",
    "print(D.__mro__)\n",
    "D().show()"
   ]
  },
  {
   "cell_type": "markdown",
   "metadata": {},
   "source": [
    "## Descriptor"
   ]
  },
  {
   "cell_type": "code",
   "execution_count": 5,
   "metadata": {},
   "outputs": [
    {
     "name": "stdout",
     "output_type": "stream",
     "text": [
      "This is StaticMethod Foo.bar\n"
     ]
    }
   ],
   "source": [
    "class StaticMethod(object):\n",
    "    \"Emulate PyStaticMethod_Type() in Objects/funcobject.c\"\n",
    "\n",
    "    def __init__(self, f):\n",
    "        self.f = f\n",
    "\n",
    "    def __get__(self, obj, objtype=None):\n",
    "        return self.f\n",
    "\n",
    "class Foo():\n",
    "    @StaticMethod\n",
    "    def bar():\n",
    "        return 'This is StaticMethod Foo.bar'\n",
    "    \n",
    "    # bar = StaticMethod(bar)\n",
    "\n",
    "print(Foo.bar())"
   ]
  },
  {
   "cell_type": "code",
   "execution_count": 7,
   "metadata": {},
   "outputs": [
    {
     "name": "stdout",
     "output_type": "stream",
     "text": [
      "This is ClassMethod Foo.bar\n",
      "This is ClassMethod Foo.bar\n"
     ]
    }
   ],
   "source": [
    "class ClassMethod(object):\n",
    "    \"Emulate PyClassMethod_Type() in Objects/funcobject.c\"\n",
    "\n",
    "    def __init__(self, f):\n",
    "        self.f = f\n",
    "\n",
    "    def __get__(self, obj, klass=None):\n",
    "        if klass is None:\n",
    "            klass = type(obj)\n",
    "        def newfunc(*args):\n",
    "            return self.f(klass, *args)\n",
    "        return newfunc\n",
    "    \n",
    "class Foo():\n",
    "    @ClassMethod\n",
    "    def bar(cls, x):\n",
    "        return 'This is ClassMethod Foo.bar'\n",
    "    \n",
    "    # bar = ClassMethod(bar)\n",
    "\n",
    "print(Foo.bar(3))\n",
    "print(Foo().bar(3))"
   ]
  },
  {
   "cell_type": "code",
   "execution_count": 9,
   "metadata": {},
   "outputs": [
    {
     "name": "stdout",
     "output_type": "stream",
     "text": [
      "baz\n",
      "qux\n"
     ]
    }
   ],
   "source": [
    "class Property:\n",
    "    \"Emulate PyProperty_Type() in Objects/descrobject.c\"\n",
    "\n",
    "    def __init__(self, fget=None, fset=None, fdel=None):\n",
    "        self.fget = fget\n",
    "        self.fset = fset\n",
    "        self.fdel = fdel\n",
    "\n",
    "    def __get__(self, obj, objtype=None):\n",
    "        if obj is None:\n",
    "            return self\n",
    "        if self.fget is None:\n",
    "            raise AttributeError(\"unreadable attribute\")\n",
    "        return self.fget(obj)\n",
    "\n",
    "    def __set__(self, obj, value):\n",
    "        if self.fset is None:\n",
    "            raise AttributeError(\"can't set attribute\")\n",
    "        self.fset(obj, value)\n",
    "\n",
    "    def __delete__(self, obj):\n",
    "        if self.fdel is None:\n",
    "            raise AttributeError(\"can't delete attribute\")\n",
    "        self.fdel(obj)\n",
    "\n",
    "    def getter(self, fget):\n",
    "        return type(self)(fget, self.fset, self.fdel)\n",
    "\n",
    "    def setter(self, fset):\n",
    "        return type(self)(self.fget, fset, self.fdel)\n",
    "\n",
    "    def deleter(self, fdel):\n",
    "        return type(self)(self.fget, self.fset, fdel)\n",
    "    \n",
    "class Foo():\n",
    "    def __init__(self):\n",
    "        self._bar = 'baz'\n",
    "        \n",
    "    @Property\n",
    "    def bar(self):\n",
    "        return self._bar\n",
    "    \n",
    "    # bar = Property(bar)\n",
    "    \n",
    "    @bar.setter\n",
    "    def bar(self, new_bar):\n",
    "        self._bar = new_bar\n",
    "        \n",
    "    # bar = bar.setter(bar)\n",
    "    \n",
    "foo = Foo()\n",
    "print(foo.bar)\n",
    "\n",
    "foo.bar = 'qux'\n",
    "print(foo.bar)"
   ]
  },
  {
   "cell_type": "markdown",
   "metadata": {},
   "source": [
    "## Metaclass"
   ]
  },
  {
   "cell_type": "code",
   "execution_count": 10,
   "metadata": {},
   "outputs": [
    {
     "name": "stdout",
     "output_type": "stream",
     "text": [
      "baz\n"
     ]
    }
   ],
   "source": [
    "class Foo(object):\n",
    "    bar = 'baz'\n",
    "\n",
    "print(Foo.bar)"
   ]
  },
  {
   "cell_type": "markdown",
   "metadata": {},
   "source": [
    "is equivalent to"
   ]
  },
  {
   "cell_type": "code",
   "execution_count": 11,
   "metadata": {},
   "outputs": [
    {
     "name": "stdout",
     "output_type": "stream",
     "text": [
      "baz\n"
     ]
    }
   ],
   "source": [
    "# type(name, bases, attrs)\n",
    "Foo = type('Foo', (object,), { 'bar': 'baz' })\n",
    "print(Foo.bar)"
   ]
  },
  {
   "cell_type": "code",
   "execution_count": 38,
   "metadata": {},
   "outputs": [
    {
     "name": "stdout",
     "output_type": "stream",
     "text": [
      "A\n",
      "B\n"
     ]
    }
   ],
   "source": [
    "# Emulate enum with metaclass\n",
    "\n",
    "class MyEnumMetaclass(type):\n",
    "    def __new__(metacls, cls, bases, classdict):\n",
    "        my_enum_cls = super().__new__(metacls, cls, bases, classdict)\n",
    "        enum_members = {}\n",
    "        for k, v in classdict.items():\n",
    "            if k.startswith('_') and k.endswith('_'):\n",
    "                 pass\n",
    "            else:\n",
    "                setattr(my_enum_cls, k.upper(), k.upper())\n",
    "        return my_enum_cls\n",
    "\n",
    "class MyEnum(metaclass=MyEnumMetaclass):\n",
    "    a = ()\n",
    "    b = ()\n",
    "\n",
    "print(MyEnum.A)\n",
    "print(MyEnum.B)"
   ]
  },
  {
   "cell_type": "markdown",
   "metadata": {},
   "source": [
    "# Class Instantiation"
   ]
  },
  {
   "cell_type": "code",
   "execution_count": 1,
   "metadata": {},
   "outputs": [],
   "source": [
    "class Foo(object):\n",
    "    def __init__(self, x, y=0):\n",
    "        self.x = x\n",
    "        self.y = y"
   ]
  },
  {
   "cell_type": "code",
   "execution_count": 4,
   "metadata": {
    "scrolled": true
   },
   "outputs": [
    {
     "name": "stdout",
     "output_type": "stream",
     "text": [
      "<__main__.Foo object at 0x7fb22cef15d0>\n",
      "1\n",
      "2\n"
     ]
    }
   ],
   "source": [
    "# foo = Foo(1, y=2)\n",
    "foo = Foo.__call__(1, y=2)\n",
    "print(foo)\n",
    "print(foo.x)\n",
    "print(foo.y)"
   ]
  },
  {
   "cell_type": "code",
   "execution_count": 28,
   "metadata": {
    "scrolled": true
   },
   "outputs": [
    {
     "name": "stdout",
     "output_type": "stream",
     "text": [
      "<__main__.Foo object at 0x1096fe358>\n",
      "1\n",
      "2\n"
     ]
    }
   ],
   "source": [
    "# simulating type's __call__()\n",
    "\n",
    "class FooMetaclass(type):    \n",
    "    def __call__(self, *args, **kwargs):\n",
    "        obj = self.__new__(self, *args, **kwargs)\n",
    "        if obj is not None:\n",
    "            obj.__init__(*args, **kwargs)\n",
    "        return obj\n",
    "\n",
    "class Foo(metaclass=FooMetaclass):\n",
    "    def __init__(self, x, y=0):\n",
    "        self.x = x\n",
    "        self.y = y\n",
    "\n",
    "foo = Foo(1, y=2)\n",
    "\n",
    "print(foo)\n",
    "print(foo.x)\n",
    "print(foo.y)"
   ]
  },
  {
   "cell_type": "markdown",
   "metadata": {},
   "source": [
    "1. `Foo(*args, **kwargs)` is equivalent to `Foo.__call__(*args, **kwargs)`\n",
    "2. Since `Foo` is an instance of `type`, `Foo.__call__(*args, **kwargs)` calls `type.__call__(Foo, *args, **kwargs)`\n",
    "3. `type.__call__(Foo, *args, **kwargs)` calls `type.__new__(Foo, *args, **kwargs)` which returns `obj`\n",
    "4. `obj` is then initialized by calling `obj.__init__(*args, **kwargs)`\n",
    "5. `obj` is returned"
   ]
  },
  {
   "cell_type": "markdown",
   "metadata": {},
   "source": [
    "# Attribute Access"
   ]
  },
  {
   "cell_type": "code",
   "execution_count": 7,
   "metadata": {},
   "outputs": [
    {
     "name": "stdout",
     "output_type": "stream",
     "text": [
      "baz\n"
     ]
    }
   ],
   "source": [
    "class Foo():\n",
    "    def __init__(self):\n",
    "        self.bar = 'baz'\n",
    "        \n",
    "foo = Foo()\n",
    "\n",
    "# foo.bar\n",
    "print(foo.__getattribute__('bar'))"
   ]
  },
  {
   "cell_type": "code",
   "execution_count": 17,
   "metadata": {},
   "outputs": [
    {
     "name": "stdout",
     "output_type": "stream",
     "text": [
      "baz\n"
     ]
    }
   ],
   "source": [
    "# simulating __getattribute__()\n",
    "\n",
    "class Foo():\n",
    "    def __init__(self):\n",
    "        self.bar = 'baz'\n",
    "        \n",
    "    def __getattr__(self, item):\n",
    "        return 'qux'\n",
    "        \n",
    "    def __my_getattribute__(self, item):\n",
    "        if item in self.__class__.__dict__:\n",
    "            v = self.__class__.__dict__[item]\n",
    "        elif item in self.__dict__:\n",
    "            v = self.__dict__[item]\n",
    "        else:\n",
    "            v = self.__getattr__(item)\n",
    "        if hasattr(v, '__get__'):\n",
    "            v = v.__get__(self, type(self))\n",
    "        return v\n",
    "\n",
    "foo = Foo()\n",
    "\n",
    "# foo.bar\n",
    "print(foo.__my_getattribute__('bar'))"
   ]
  },
  {
   "cell_type": "code",
   "execution_count": 19,
   "metadata": {},
   "outputs": [
    {
     "name": "stdout",
     "output_type": "stream",
     "text": [
      "class_attr\n",
      "dict_attr\n",
      "property_attr\n",
      "__getattr__\n",
      "\n",
      "class_attr\n",
      "dict_attr\n",
      "property_attr\n",
      "__getattr__\n"
     ]
    }
   ],
   "source": [
    "class Foo:\n",
    "    class_attr = 'class_attr'\n",
    "    \n",
    "    def __init__(self):\n",
    "        self.dict_attr = 'dict_attr'\n",
    "        \n",
    "    @property\n",
    "    def property_attr(self):\n",
    "        return 'property_attr'\n",
    "    \n",
    "    def __getattr__(self, item):\n",
    "        return '__getattr__'\n",
    "    \n",
    "    def __my_getattribute__(self, item):\n",
    "        if item in self.__class__.__dict__:\n",
    "            v = self.__class__.__dict__[item]\n",
    "        elif item in self.__dict__:\n",
    "            v = self.__dict__[item]\n",
    "        else:\n",
    "            v = self.__getattr__(item)\n",
    "        if hasattr(v, '__get__'):\n",
    "            v = v.__get__(self, type(self))\n",
    "        return v\n",
    "    \n",
    "foo = Foo()\n",
    "\n",
    "print(foo.class_attr)\n",
    "print(foo.dict_attr)\n",
    "print(foo.property_attr)\n",
    "print(foo.dynamic_attr)\n",
    "\n",
    "print()\n",
    "\n",
    "print(foo.__my_getattribute__('class_attr'))\n",
    "print(foo.__my_getattribute__('dict_attr'))\n",
    "print(foo.__my_getattribute__('property_attr'))\n",
    "print(foo.__my_getattribute__('dynamic_attr'))"
   ]
  },
  {
   "cell_type": "markdown",
   "metadata": {},
   "source": [
    "# Custom ORM"
   ]
  },
  {
   "cell_type": "markdown",
   "metadata": {},
   "source": [
    "## The goal"
   ]
  },
  {
   "cell_type": "code",
   "execution_count": 43,
   "metadata": {},
   "outputs": [],
   "source": [
    "class Base():\n",
    "    def __init__(self, *args, **kwargs):\n",
    "        pass\n",
    "\n",
    "class Column():\n",
    "    def __init__(self, dtype):\n",
    "        pass\n",
    "\n",
    "class Relationship():\n",
    "    def __init__(self, foreign_model_class):\n",
    "        pass"
   ]
  },
  {
   "cell_type": "markdown",
   "metadata": {},
   "source": [
    "Make this work:"
   ]
  },
  {
   "cell_type": "code",
   "execution_count": 45,
   "metadata": {},
   "outputs": [],
   "source": [
    "class Email(Base):\n",
    "    address = Column(str)\n",
    "    \n",
    "class User(Base):\n",
    "    name = Column(str)\n",
    "    emails = Relationship('Email')\n",
    "    \n",
    "user = User(name='CP')\n",
    "user.emails = [\n",
    "    Email(address='cp1@od.hk'),\n",
    "    Email(address='cp2@od.hk')\n",
    "]\n",
    "\n",
    "assert user.name == 'CP'\n",
    "assert user.emails == [\n",
    "    { 'address': 'cp1@od.hk' },\n",
    "    { 'address': 'cp2@od.hk' }\n",
    "]"
   ]
  },
  {
   "cell_type": "markdown",
   "metadata": {},
   "source": [
    "## Step 1. Implement column descriptor"
   ]
  },
  {
   "cell_type": "code",
   "execution_count": 61,
   "metadata": {},
   "outputs": [
    {
     "name": "stdout",
     "output_type": "stream",
     "text": [
      "CP1\n",
      "CP2\n"
     ]
    }
   ],
   "source": [
    "class Column():\n",
    "    def __init__(self, dtype):\n",
    "        self.dtype = dtype\n",
    "        self.data = None\n",
    "    \n",
    "    def __get__(self, obj, type):\n",
    "        return self.dtype(self.data)\n",
    "        \n",
    "    def __set__(self, obj, value):\n",
    "        self.data = value\n",
    "\n",
    "class User():\n",
    "    name = Column(str)\n",
    "\n",
    "user1 = User()\n",
    "user1.name = 'CP1'\n",
    "print(user1.name)\n",
    "\n",
    "user2 = User()\n",
    "user2.name = 'CP2'\n",
    "print(user2.name)"
   ]
  },
  {
   "cell_type": "markdown",
   "metadata": {},
   "source": [
    "but..."
   ]
  },
  {
   "cell_type": "code",
   "execution_count": 62,
   "metadata": {},
   "outputs": [
    {
     "name": "stdout",
     "output_type": "stream",
     "text": [
      "CP2\n"
     ]
    }
   ],
   "source": [
    "print(user1.name)"
   ]
  },
  {
   "cell_type": "markdown",
   "metadata": {},
   "source": [
    "## Step 2. Implement base class"
   ]
  },
  {
   "cell_type": "code",
   "execution_count": 96,
   "metadata": {},
   "outputs": [
    {
     "name": "stdout",
     "output_type": "stream",
     "text": [
      "CP1\n",
      "CP2\n",
      "CP1111 CP2\n",
      "CP1111 CP2222\n"
     ]
    }
   ],
   "source": [
    "class Column():\n",
    "    def __init__(self, dtype):\n",
    "        self.dtype = dtype\n",
    "\n",
    "class ColumnDescriptor():\n",
    "    def __init__(self, dtype):\n",
    "        self.dtype = dtype\n",
    "        self.data = None\n",
    "    \n",
    "    def __get__(self, obj, type):\n",
    "        return self.dtype(self.data)\n",
    "        \n",
    "    def __set__(self, obj, value):\n",
    "        self.data = value\n",
    "\n",
    "class Base():\n",
    "    def __init__(self, **kwargs):\n",
    "        cls = self.__class__\n",
    "        \n",
    "        # create column descriptors from column definitions\n",
    "        for k, v in cls.__dict__.items():\n",
    "            if not k.startswith('_') or not k.endswith('_'):\n",
    "                setattr(self, k, ColumnDescriptor(v.dtype))\n",
    "        \n",
    "        # initialize values\n",
    "        for k, v in kwargs.items():\n",
    "            setattr(self, k, v)\n",
    "\n",
    "class User(Base):\n",
    "    name = Column(str)\n",
    "\n",
    "user1 = User(name='CP1')\n",
    "print(user1.name)\n",
    "\n",
    "user2 = User(name='CP2')\n",
    "print(user2.name)\n",
    "\n",
    "user1.name = 'CP1111'\n",
    "print(user1.name, user2.name)\n",
    "\n",
    "user2.name = 'CP2222'\n",
    "print(user1.name, user2.name)"
   ]
  },
  {
   "cell_type": "markdown",
   "metadata": {},
   "source": [
    "## Step 3. Implement base metaclass"
   ]
  },
  {
   "cell_type": "code",
   "execution_count": 136,
   "metadata": {},
   "outputs": [],
   "source": [
    "class Column():\n",
    "    def __init__(self, dtype):\n",
    "        self.dtype = dtype\n",
    "\n",
    "class ColumnDescriptor():\n",
    "    def __init__(self, dtype):\n",
    "        self.dtype = dtype\n",
    "        self.data = None\n",
    "    \n",
    "    def __get__(self, obj, type):\n",
    "        return self.dtype(self.data)\n",
    "        \n",
    "    def __set__(self, obj, value):\n",
    "        self.data = value\n",
    "\n",
    "class Relationship():\n",
    "    def __init__(self, foreign_model_name):\n",
    "        self.data = None\n",
    "    \n",
    "    def __get__(self, obj, type_):\n",
    "        return self.data\n",
    "    \n",
    "    def __set__(self, obj, col_list):\n",
    "        self.data = [col.as_dict() for col in col_list]\n",
    "\n",
    "class BaseMetaclass(type):\n",
    "    model_registry = {}\n",
    "    \n",
    "    def __new__(metacls, cls, bases, classdict):\n",
    "        if cls == 'Base':\n",
    "            return super().__new__(metacls, cls, bases, classdict)\n",
    "        \n",
    "        klass = super().__new__(metacls, cls, bases, classdict)\n",
    "        \n",
    "        metacls.model_registry[cls] = {\n",
    "            'cls': klass,\n",
    "            'column_registry': {},\n",
    "            'relation_registry': {}\n",
    "        }\n",
    "        \n",
    "        for k, v in classdict.items():\n",
    "            if isinstance(v, Column):\n",
    "                metacls.model_registry[cls]['column_registry'][k] = v\n",
    "            elif isinstance(v, Relationship):\n",
    "                metacls.model_registry[cls]['relation_registry'][k] = v\n",
    "                \n",
    "        return klass\n",
    "\n",
    "\n",
    "class Base(metaclass=BaseMetaclass):    \n",
    "    def __init__(self, **kwargs):\n",
    "        cls = self.__class__\n",
    "        \n",
    "        # create column descriptors from column definitions\n",
    "        for k, v in cls.__dict__.items():\n",
    "            if not k.startswith('_') or not k.endswith('_'):\n",
    "                if isinstance(v, Column):\n",
    "                    setattr(self, k, ColumnDescriptor(v.dtype))\n",
    "        \n",
    "        # initialize values\n",
    "        for k, v in kwargs.items():\n",
    "            setattr(self, k, v)\n",
    "\n",
    "    def as_dict(self):\n",
    "        cls = self.__class__\n",
    "        registry = cls.__class__.model_registry[cls.__name__]\n",
    "        result = {}\n",
    "        for col, col_desc in registry['column_registry'].items():\n",
    "            result[col] = getattr(self, col)\n",
    "        for rel, rel_desc in registry['relation_registry'].items():\n",
    "            result[rel] = getattr(self, rel)\n",
    "        return result\n",
    "\n",
    "class Email(Base):\n",
    "    address = Column(str)\n",
    "            \n",
    "class User(Base):\n",
    "    name = Column(str)\n",
    "    emails = Relationship('Email')\n",
    "\n",
    "user = User(name='CP')\n",
    "user.emails = [\n",
    "    Email(address='cp1@od.hk'),\n",
    "    Email(address='cp2@od.hk')\n",
    "]\n",
    "\n",
    "assert user.name == 'CP'\n",
    "assert user.emails == [\n",
    "    { 'address': 'cp1@od.hk' },\n",
    "    { 'address': 'cp2@od.hk' }\n",
    "]"
   ]
  },
  {
   "cell_type": "code",
   "execution_count": null,
   "metadata": {},
   "outputs": [],
   "source": []
  }
 ],
 "metadata": {
  "kernelspec": {
   "display_name": "Python 3",
   "language": "python",
   "name": "python3"
  },
  "language_info": {
   "codemirror_mode": {
    "name": "ipython",
    "version": 3
   },
   "file_extension": ".py",
   "mimetype": "text/x-python",
   "name": "python",
   "nbconvert_exporter": "python",
   "pygments_lexer": "ipython3",
   "version": "3.7.4"
  }
 },
 "nbformat": 4,
 "nbformat_minor": 2
}
