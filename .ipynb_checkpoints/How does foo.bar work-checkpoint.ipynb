{
 "cells": [
  {
   "cell_type": "markdown",
   "metadata": {},
   "source": [
    "# Custom ORM"
   ]
  },
  {
   "cell_type": "code",
   "execution_count": 14,
   "metadata": {},
   "outputs": [],
   "source": [
    "class Base():\n",
    "    pass\n",
    "\n",
    "class Column():\n",
    "    def __init__(self, dtype):\n",
    "        pass\n",
    "\n",
    "class relationship():\n",
    "    def __init__(self, children_model_class):\n",
    "        pass\n",
    "\n",
    "class Email(Base):\n",
    "    value = Column(str)\n",
    "    \n",
    "    def __init__(self, *args, **kwargs):\n",
    "        pass\n",
    "    \n",
    "class User(Base):\n",
    "    name = Column(str)\n",
    "    emails = relationship('Email')\n",
    "    \n",
    "    def __init__(self, *args, **kwargs):\n",
    "        pass\n",
    "    \n",
    "    def __repr__(self):\n",
    "        return '<user CP>'\n",
    "    \n",
    "user = User(name='CP')\n",
    "user.emails = [\n",
    "    Email(value='cp1@od.hk'),\n",
    "    Email(value='cp2@od.hk')\n",
    "]\n",
    "\n",
    "assert str(user) == '<user CP>'"
   ]
  },
  {
   "cell_type": "markdown",
   "metadata": {},
   "source": [
    "# Class Instantiation"
   ]
  },
  {
   "cell_type": "code",
   "execution_count": null,
   "metadata": {},
   "outputs": [],
   "source": [
    "class "
   ]
  }
 ],
 "metadata": {
  "kernelspec": {
   "display_name": "Python 3",
   "language": "python",
   "name": "python3"
  },
  "language_info": {
   "codemirror_mode": {
    "name": "ipython",
    "version": 3
   },
   "file_extension": ".py",
   "mimetype": "text/x-python",
   "name": "python",
   "nbconvert_exporter": "python",
   "pygments_lexer": "ipython3",
   "version": "3.7.4"
  }
 },
 "nbformat": 4,
 "nbformat_minor": 2
}
