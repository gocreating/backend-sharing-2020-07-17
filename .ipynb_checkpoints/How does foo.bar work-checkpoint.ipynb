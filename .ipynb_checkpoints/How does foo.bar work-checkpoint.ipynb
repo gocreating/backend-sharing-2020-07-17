{
 "cells": [
  {
   "cell_type": "markdown",
   "metadata": {},
   "source": [
    "# Custom ORM"
   ]
  },
  {
   "cell_type": "code",
   "execution_count": 14,
   "metadata": {},
   "outputs": [],
   "source": [
    "class Base():\n",
    "    pass\n",
    "\n",
    "class Column():\n",
    "    def __init__(self, dtype):\n",
    "        pass\n",
    "\n",
    "class relationship():\n",
    "    def __init__(self, children_model_class):\n",
    "        pass"
   ]
  },
  {
   "cell_type": "markdown",
   "metadata": {},
   "source": [
    "Make this work:"
   ]
  },
  {
   "cell_type": "code",
   "execution_count": null,
   "metadata": {},
   "outputs": [],
   "source": [
    "class Email(Base):\n",
    "    value = Column(str)\n",
    "    \n",
    "    def __init__(self, *args, **kwargs):\n",
    "        pass\n",
    "    \n",
    "class User(Base):\n",
    "    name = Column(str)\n",
    "    emails = relationship('Email')\n",
    "    \n",
    "    def __init__(self, *args, **kwargs):\n",
    "        pass\n",
    "    \n",
    "    def __repr__(self):\n",
    "        return '<user CP>'\n",
    "    \n",
    "user = User(name='CP')\n",
    "user.emails = [\n",
    "    Email(value='cp1@od.hk'),\n",
    "    Email(value='cp2@od.hk')\n",
    "]\n",
    "\n",
    "assert str(user) == '<user CP>'"
   ]
  },
  {
   "cell_type": "markdown",
   "metadata": {},
   "source": [
    "# Review"
   ]
  },
  {
   "cell_type": "markdown",
   "metadata": {},
   "source": [
    "## MRO"
   ]
  },
  {
   "cell_type": "code",
   "execution_count": 2,
   "metadata": {},
   "outputs": [
    {
     "name": "stdout",
     "output_type": "stream",
     "text": [
      "(<class '__main__.D'>, <class '__main__.B'>, <class '__main__.C'>, <class '__main__.A'>, <class 'object'>)\n",
      "c.show\n"
     ]
    }
   ],
   "source": [
    "class A():\n",
    "    def show(self):\n",
    "        print('a.show')\n",
    "\n",
    "class B(A):\n",
    "    pass\n",
    "\n",
    "class C(A):\n",
    "    def show(self):\n",
    "        print('c.show')\n",
    "\n",
    "class D(B, C):\n",
    "    pass\n",
    "\n",
    "print(D.__mro__)\n",
    "D().show()"
   ]
  },
  {
   "cell_type": "markdown",
   "metadata": {},
   "source": [
    "## Descriptor"
   ]
  },
  {
   "cell_type": "code",
   "execution_count": 9,
   "metadata": {},
   "outputs": [],
   "source": [
    "class StaticMethod(object):\n",
    "    \"Emulate PyStaticMethod_Type() in Objects/funcobject.c\"\n",
    "\n",
    "    def __init__(self, f):\n",
    "        self.f = f\n",
    "\n",
    "    def __get__(self, obj, objtype=None):\n",
    "        return self.f"
   ]
  },
  {
   "cell_type": "code",
   "execution_count": 10,
   "metadata": {},
   "outputs": [
    {
     "name": "stdout",
     "output_type": "stream",
     "text": [
      "('E', 3)\n",
      "('E', 3)\n"
     ]
    }
   ],
   "source": [
    "class ClassMethod(object):\n",
    "    \"Emulate PyClassMethod_Type() in Objects/funcobject.c\"\n",
    "\n",
    "    def __init__(self, f):\n",
    "        self.f = f\n",
    "\n",
    "    def __get__(self, obj, klass=None):\n",
    "        if klass is None:\n",
    "            klass = type(obj)\n",
    "        def newfunc(*args):\n",
    "            return self.f(klass, *args)\n",
    "        return newfunc\n",
    "    \n",
    "class E(object):\n",
    "    def f(klass, x):\n",
    "        return klass.__name__, x\n",
    "    f = ClassMethod(f)\n",
    "\n",
    "print(E.f(3))\n",
    "print(E().f(3))"
   ]
  },
  {
   "cell_type": "code",
   "execution_count": 15,
   "metadata": {},
   "outputs": [
    {
     "name": "stdout",
     "output_type": "stream",
     "text": [
      "baz\n",
      "qux\n"
     ]
    }
   ],
   "source": [
    "class Property:\n",
    "    \"Emulate PyProperty_Type() in Objects/descrobject.c\"\n",
    "\n",
    "    def __init__(self, fget=None, fset=None, fdel=None):\n",
    "        self.fget = fget\n",
    "        self.fset = fset\n",
    "        self.fdel = fdel\n",
    "\n",
    "    def __get__(self, obj, objtype=None):\n",
    "        if obj is None:\n",
    "            return self\n",
    "        if self.fget is None:\n",
    "            raise AttributeError(\"unreadable attribute\")\n",
    "        return self.fget(obj)\n",
    "\n",
    "    def __set__(self, obj, value):\n",
    "        if self.fset is None:\n",
    "            raise AttributeError(\"can't set attribute\")\n",
    "        self.fset(obj, value)\n",
    "\n",
    "    def __delete__(self, obj):\n",
    "        if self.fdel is None:\n",
    "            raise AttributeError(\"can't delete attribute\")\n",
    "        self.fdel(obj)\n",
    "\n",
    "    def getter(self, fget):\n",
    "        return type(self)(fget, self.fset, self.fdel)\n",
    "\n",
    "    def setter(self, fset):\n",
    "        return type(self)(self.fget, fset, self.fdel)\n",
    "\n",
    "    def deleter(self, fdel):\n",
    "        return type(self)(self.fget, self.fset, fdel)\n",
    "    \n",
    "class Foo():\n",
    "    def __init__(self):\n",
    "        self._bar = 'baz'\n",
    "        \n",
    "    @Property\n",
    "    def bar(self):\n",
    "        return self._bar\n",
    "    \n",
    "    # bar = Property(bar)\n",
    "    \n",
    "    @bar.setter\n",
    "    def bar(self, new_bar):\n",
    "        self._bar = new_bar\n",
    "    \n",
    "foo = Foo()\n",
    "print(foo.bar)\n",
    "\n",
    "foo.bar = 'qux'\n",
    "print(foo.bar)"
   ]
  },
  {
   "cell_type": "markdown",
   "metadata": {},
   "source": [
    "## Metaclass"
   ]
  },
  {
   "cell_type": "code",
   "execution_count": null,
   "metadata": {},
   "outputs": [],
   "source": []
  },
  {
   "cell_type": "markdown",
   "metadata": {},
   "source": [
    "# Class Instantiation"
   ]
  },
  {
   "cell_type": "code",
   "execution_count": 1,
   "metadata": {},
   "outputs": [],
   "source": [
    "class Foo(object):\n",
    "    def __init__(self, x, y=0):\n",
    "        self.x = x\n",
    "        self.y = y"
   ]
  },
  {
   "cell_type": "code",
   "execution_count": 4,
   "metadata": {
    "scrolled": true
   },
   "outputs": [
    {
     "name": "stdout",
     "output_type": "stream",
     "text": [
      "<__main__.Foo object at 0x7fb22cef15d0>\n",
      "1\n",
      "2\n"
     ]
    }
   ],
   "source": [
    "# foo = Foo(1, y=2)\n",
    "foo = Foo.__call__(1, y=2)\n",
    "print(foo)\n",
    "print(foo.x)\n",
    "print(foo.y)"
   ]
  },
  {
   "cell_type": "code",
   "execution_count": 28,
   "metadata": {
    "scrolled": true
   },
   "outputs": [
    {
     "name": "stdout",
     "output_type": "stream",
     "text": [
      "<__main__.Foo object at 0x1096fe358>\n",
      "1\n",
      "2\n"
     ]
    }
   ],
   "source": [
    "# simulating type's __call__()\n",
    "\n",
    "class FooMetaclass(type):    \n",
    "    def __call__(self, *args, **kwargs):\n",
    "        obj = self.__new__(self, *args, **kwargs)\n",
    "        if obj is not None:\n",
    "            obj.__init__(*args, **kwargs)\n",
    "        return obj\n",
    "\n",
    "class Foo(metaclass=FooMetaclass):\n",
    "    def __init__(self, x, y=0):\n",
    "        self.x = x\n",
    "        self.y = y\n",
    "\n",
    "foo = Foo(1, y=2)\n",
    "\n",
    "print(foo)\n",
    "print(foo.x)\n",
    "print(foo.y)"
   ]
  },
  {
   "cell_type": "markdown",
   "metadata": {},
   "source": [
    "1. `Foo(*args, **kwargs)` is equivalent to `Foo.__call__(*args, **kwargs)`\n",
    "2. Since `Foo` is an instance of `type`, `Foo.__call__(*args, **kwargs)` calls `type.__call__(Foo, *args, **kwargs)`\n",
    "3. `type.__call__(Foo, *args, **kwargs)` calls `type.__new__(Foo, *args, **kwargs)` which returns `obj`\n",
    "4. `obj` is then initialized by calling `obj.__init__(*args, **kwargs)`\n",
    "5. `obj` is returned"
   ]
  },
  {
   "cell_type": "markdown",
   "metadata": {},
   "source": [
    "# Attribute Access"
   ]
  },
  {
   "cell_type": "code",
   "execution_count": 7,
   "metadata": {},
   "outputs": [
    {
     "name": "stdout",
     "output_type": "stream",
     "text": [
      "baz\n"
     ]
    }
   ],
   "source": [
    "class Foo():\n",
    "    def __init__(self):\n",
    "        self.bar = 'baz'\n",
    "        \n",
    "foo = Foo()\n",
    "\n",
    "# foo.bar\n",
    "print(foo.__getattribute__('bar'))"
   ]
  },
  {
   "cell_type": "code",
   "execution_count": 17,
   "metadata": {},
   "outputs": [
    {
     "name": "stdout",
     "output_type": "stream",
     "text": [
      "baz\n"
     ]
    }
   ],
   "source": [
    "# simulating __getattribute__()\n",
    "\n",
    "class Foo():\n",
    "    def __init__(self):\n",
    "        self.bar = 'baz'\n",
    "        \n",
    "    def __getattr__(self, item):\n",
    "        return 'qux'\n",
    "        \n",
    "    def __my_getattribute__(self, item):\n",
    "        if item in self.__class__.__dict__:\n",
    "            v = self.__class__.__dict__[item]\n",
    "        elif item in self.__dict__:\n",
    "            v = self.__dict__[item]\n",
    "        else:\n",
    "            v = self.__getattr__(item)\n",
    "        if hasattr(v, '__get__'):\n",
    "            v = v.__get__(self, type(self))\n",
    "        return v\n",
    "\n",
    "foo = Foo()\n",
    "\n",
    "# foo.bar\n",
    "print(foo.__my_getattribute__('bar'))"
   ]
  },
  {
   "cell_type": "code",
   "execution_count": 19,
   "metadata": {},
   "outputs": [
    {
     "name": "stdout",
     "output_type": "stream",
     "text": [
      "class_attr\n",
      "dict_attr\n",
      "property_attr\n",
      "__getattr__\n",
      "\n",
      "class_attr\n",
      "dict_attr\n",
      "property_attr\n",
      "__getattr__\n"
     ]
    }
   ],
   "source": [
    "class Foo:\n",
    "    class_attr = 'class_attr'\n",
    "    \n",
    "    def __init__(self):\n",
    "        self.dict_attr = 'dict_attr'\n",
    "        \n",
    "    @property\n",
    "    def property_attr(self):\n",
    "        return 'property_attr'\n",
    "    \n",
    "    def __getattr__(self, item):\n",
    "        return '__getattr__'\n",
    "    \n",
    "    def __my_getattribute__(self, item):\n",
    "        if item in self.__class__.__dict__:\n",
    "            v = self.__class__.__dict__[item]\n",
    "        elif item in self.__dict__:\n",
    "            v = self.__dict__[item]\n",
    "        else:\n",
    "            v = self.__getattr__(item)\n",
    "        if hasattr(v, '__get__'):\n",
    "            v = v.__get__(self, type(self))\n",
    "        return v\n",
    "    \n",
    "foo = Foo()\n",
    "\n",
    "print(foo.class_attr)\n",
    "print(foo.dict_attr)\n",
    "print(foo.property_attr)\n",
    "print(foo.dynamic_attr)\n",
    "\n",
    "print()\n",
    "\n",
    "print(foo.__my_getattribute__('class_attr'))\n",
    "print(foo.__my_getattribute__('dict_attr'))\n",
    "print(foo.__my_getattribute__('property_attr'))\n",
    "print(foo.__my_getattribute__('dynamic_attr'))"
   ]
  },
  {
   "cell_type": "markdown",
   "metadata": {},
   "source": [
    "# Metaclass"
   ]
  },
  {
   "cell_type": "code",
   "execution_count": 26,
   "metadata": {},
   "outputs": [
    {
     "name": "stdout",
     "output_type": "stream",
     "text": [
      "baz\n"
     ]
    }
   ],
   "source": [
    "class Foo(object):\n",
    "    bar = 'baz'\n",
    "print(Foo.bar)"
   ]
  },
  {
   "cell_type": "markdown",
   "metadata": {},
   "source": [
    "is equivalent to"
   ]
  },
  {
   "cell_type": "code",
   "execution_count": 25,
   "metadata": {},
   "outputs": [
    {
     "name": "stdout",
     "output_type": "stream",
     "text": [
      "baz\n"
     ]
    }
   ],
   "source": [
    "# type(name, bases, attrs)\n",
    "Foo = type('Foo', (object,), { 'bar': 'baz' })\n",
    "print(Foo.bar)"
   ]
  },
  {
   "cell_type": "markdown",
   "metadata": {},
   "source": [
    "## Create a class automatically transform props to uppercase"
   ]
  },
  {
   "cell_type": "code",
   "execution_count": null,
   "metadata": {},
   "outputs": [],
   "source": []
  },
  {
   "cell_type": "markdown",
   "metadata": {},
   "source": [
    "# Column Descriptor"
   ]
  },
  {
   "cell_type": "code",
   "execution_count": 28,
   "metadata": {},
   "outputs": [
    {
     "name": "stdout",
     "output_type": "stream",
     "text": [
      "<user CP2>\n"
     ]
    }
   ],
   "source": [
    "class Column():\n",
    "    def __init__(self, dtype):\n",
    "        self.dtype = dtype\n",
    "        self.data = None\n",
    "    \n",
    "    def __get__(self, obj, type):\n",
    "        return self.dtype(self.data)\n",
    "        \n",
    "    def __set__(self, obj, value):\n",
    "        self.data = value\n",
    "\n",
    "class User():\n",
    "    name = Column(str)\n",
    "    \n",
    "    def __repr__(self):\n",
    "        return f'<user {self.name}>'\n",
    "\n",
    "user = User()\n",
    "user.name = 'CP2'\n",
    "print(user)"
   ]
  },
  {
   "cell_type": "markdown",
   "metadata": {},
   "source": [
    "# Column Descriptor + Base Metaclass"
   ]
  },
  {
   "cell_type": "code",
   "execution_count": 43,
   "metadata": {},
   "outputs": [
    {
     "name": "stdout",
     "output_type": "stream",
     "text": [
      "Base.__init__\n",
      "<user CP>\n"
     ]
    }
   ],
   "source": [
    "class BaseMeta(type):\n",
    "#     def __new__(mcls, name, base, attribs):\n",
    "#         print(attribs.get('__annotations__',{}))\n",
    "#         return super().__new__(mcls, name, base, attribs)\n",
    "    def __call__(self, *args, **kwargs):\n",
    "        print('BaseMeta.__call__')\n",
    "        instance = self.__new__(self, *args, **kwargs)\n",
    "        self.__init__(instance, *args, **kwargs)\n",
    "        for column_name, column_value in kwargs.items():\n",
    "            setattr(self, column_name, column_value)\n",
    "        return instance\n",
    "\n",
    "\n",
    "# class Base(metaclass=BaseMeta):\n",
    "class Base():\n",
    "    def __init__(self, **kwargs):\n",
    "        print('Base.__init__')\n",
    "        for column_name, column_value in kwargs.items():\n",
    "            setattr(self, column_name, column_value)\n",
    "\n",
    "\n",
    "class Column():\n",
    "    def __init__(self, dtype):\n",
    "        self.dtype = dtype\n",
    "        self.data = None\n",
    "    \n",
    "    def __get__(self, obj, type_):\n",
    "        return self.dtype(self.data)\n",
    "        \n",
    "    def __set__(self, obj, value):\n",
    "        self.data = value\n",
    "\n",
    "class User(Base):\n",
    "    name = Column(str)\n",
    "    \n",
    "    def __repr__(self):\n",
    "        return f'<user {self.name}>'\n",
    "\n",
    "user = User(name='CP')\n",
    "# user.name = 'CP2'\n",
    "print(user)"
   ]
  },
  {
   "cell_type": "code",
   "execution_count": null,
   "metadata": {},
   "outputs": [],
   "source": []
  }
 ],
 "metadata": {
  "kernelspec": {
   "display_name": "Python 3",
   "language": "python",
   "name": "python3"
  },
  "language_info": {
   "codemirror_mode": {
    "name": "ipython",
    "version": 3
   },
   "file_extension": ".py",
   "mimetype": "text/x-python",
   "name": "python",
   "nbconvert_exporter": "python",
   "pygments_lexer": "ipython3",
   "version": "3.7.2"
  }
 },
 "nbformat": 4,
 "nbformat_minor": 2
}
